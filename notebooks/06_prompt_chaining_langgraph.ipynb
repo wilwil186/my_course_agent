{
 "cells": [
  {
   "cell_type": "code",
   "execution_count": 1,
   "id": "1a32af5a",
   "metadata": {},
   "outputs": [],
   "source": [
    "from typing import TypedDict\n",
    "\n",
    "class State(TypedDict):\n",
    "    customer_name: str\n",
    "    my_age: int"
    ]
   },
   {
    "cell_type": "markdown",
    "id": "explain_state",
    "metadata": {},
    "source": [
     "## Definición del Estado\n",
     "\n",
     "Aquí definimos el estado como un `TypedDict` de Python. El estado actúa como una \"memoria compartida\" que pasa entre nodos en el grafo de LangGraph.\n",
     "\n",
     "- `customer_name`: Un string para el nombre del cliente.\n",
     "- `my_age`: Un entero para la edad.\n",
     "\n",
     "Esto permite que cada nodo lea y modifique estos datos de forma controlada, facilitando el flujo de información en agentes complejos."
    ]
   },
   {
    "cell_type": "code",
    "execution_count": 2,
    "id": "1d321d21",
   "metadata": {},
   "outputs": [],
   "source": [
    "def node_1(state: State):\n",
    "    return state\n",
    "\n",
    "def node_2(state: State):\n",
    "    return state\n",
    "\n",
    "def node_3(state: State):\n",
    "    return state"
    ]
   },
   {
    "cell_type": "markdown",
    "id": "explain_nodes",
    "metadata": {},
    "source": [
     "## Definición de Nodos\n",
     "\n",
     "Los nodos son funciones que procesan el estado. Cada nodo recibe el estado actual, lo modifica si es necesario y devuelve los cambios.\n",
     "\n",
     "- `node_1`, `node_2`, `node_3`: Ejemplos simples que devuelven el estado sin cambios (para ilustrar el flujo).\n",
     "\n",
     "En un agente real, estos nodos podrían llamar a LLMs, consultar APIs o realizar cálculos."
    ]
   },
   {
    "cell_type": "code",
    "execution_count": 3,
    "id": "5b7b1822",
   "metadata": {},
   "outputs": [],
   "source": [
    "from langgraph.graph import StateGraph, START, END\n",
    "\n",
    "builder = StateGraph(State)\n",
    "builder.add_node(\"node_1\", node_1)\n",
    "builder.add_node(\"node_2\", node_2)\n",
    "builder.add_node(\"node_3\", node_3)\n",
    "\n",
    "builder.add_edge(START, 'node_1')\n",
    "builder.add_edge('node_1', 'node_2')\n",
    "builder.add_edge('node_2', 'node_3')\n",
    "builder.add_edge('node_3', END)\n",
    "\n",
     "agent = builder.compile()"
    ]
   },
   {
    "cell_type": "markdown",
    "id": "explain_graph_build",
    "metadata": {},
    "source": [
     "## Construcción del Grafo\n",
     "\n",
     "Aquí construimos el grafo usando `StateGraph`.\n",
     "\n",
     "- `add_node`: Registra las funciones como nodos ejecutables.\n",
     "- `add_edge`: Define las conexiones (flujo secuencial: START -> node_1 -> node_2 -> node_3 -> END).\n",
     "- `compile()`: Convierte el builder en un agente invocable.\n",
     "\n",
     "Este grafo representa un flujo lineal simple, ideal para tareas secuenciales como procesamiento paso a paso."
    ]
   },
   {
    "cell_type": "code",
    "execution_count": 4,
    "id": "a8a7d335",
   "metadata": {},
   "outputs": [
    {
     "name": "stdout",
     "output_type": "stream",
     "text": [
      "+-----------+  \n",
      "| __start__ |  \n",
      "+-----------+  \n",
      "      *        \n",
      "      *        \n",
      "      *        \n",
      "  +--------+   \n",
      "  | node_1 |   \n",
      "  +--------+   \n",
      "      *        \n",
      "      *        \n",
      "      *        \n",
      "  +--------+   \n",
      "  | node_2 |   \n",
      "  +--------+   \n",
      "      *        \n",
      "      *        \n",
      "      *        \n",
      "  +--------+   \n",
      "  | node_3 |   \n",
      "  +--------+   \n",
      "      *        \n",
      "      *        \n",
      "      *        \n",
      " +---------+   \n",
      " | __end__ |   \n",
      " +---------+   \n"
     ]
    }
   ],
   "source": [
     "print(agent.get_graph().draw_ascii())"
    ]
   },
   {
    "cell_type": "markdown",
    "id": "explain_visualization",
    "metadata": {},
    "source": [
     "## Visualización del Grafo\n",
     "\n",
     "Usamos `draw_ascii()` para imprimir una representación textual del grafo.\n",
     "\n",
     "- Muestra los nodos (cajas) y las conexiones (flechas).\n",
     "- Útil para depurar y entender el flujo antes de ejecutar.\n",
     "\n",
     "En herramientas como LangGraph Studio, puedes ver esto de forma gráfica interactiva."
    ]
   },
   {
    "cell_type": "code",
    "execution_count": 5,
    "id": "23ab3403",
   "metadata": {},
   "outputs": [
    {
     "name": "stdout",
     "output_type": "stream",
     "text": [
      "+-----------+  \n",
      "| __start__ |  \n",
      "+-----------+  \n",
      "      *        \n",
      "      *        \n",
      "      *        \n",
      "  +--------+   \n",
      "  | node_1 |   \n",
      "  +--------+   \n",
      "      *        \n",
      "      *        \n",
      "      *        \n",
      "  +--------+   \n",
      "  | node_2 |   \n",
      "  +--------+   \n",
      "      *        \n",
      "      *        \n",
      "      *        \n",
      "  +--------+   \n",
      "  | node_3 |   \n",
      "  +--------+   \n",
      "      *        \n",
      "      *        \n",
      "      *        \n",
      " +---------+   \n",
      " | __end__ |   \n",
      " +---------+   \n"
     ]
    }
   ],
   "source": [
    "from langgraph.graph import StateGraph, START, END\n",
    "\n",
    "builder = StateGraph(State)\n",
    "\n",
    "builder.add_edge(START, 'node_1')\n",
    "builder.add_sequence([node_1, node_2, node_3])\n",
    "\n",
    "agent = builder.compile()\n",
     "print(agent.get_graph().draw_ascii())"
    ]
   },
   {
    "cell_type": "markdown",
    "id": "explain_sequence",
    "metadata": {},
    "source": [
     "## Uso de add_sequence para Flujos Lineales\n",
     "\n",
     "Aquí demostramos `add_sequence`, un método compacto para definir flujos lineales.\n",
     "\n",
     "- `add_sequence([node_1, node_2, node_3])`: Conecta los nodos en orden automáticamente.\n",
     "- Simplifica el código para prototipos rápidos.\n",
     "- El resultado es el mismo grafo secuencial, pero con menos líneas de código.\n",
     "\n",
     "Esto es útil cuando no necesitas ramas condicionales."
    ]
   }
  ],
  "metadata": {
  "kernelspec": {
   "display_name": ".venv",
   "language": "python",
   "name": "python3"
  },
  "language_info": {
   "codemirror_mode": {
    "name": "ipython",
    "version": 3
   },
   "file_extension": ".py",
   "mimetype": "text/x-python",
   "name": "python",
   "nbconvert_exporter": "python",
   "pygments_lexer": "ipython3",
   "version": "3.13.5"
  }
 },
 "nbformat": 4,
 "nbformat_minor": 5
}
