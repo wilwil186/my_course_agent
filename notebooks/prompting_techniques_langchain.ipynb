{
 "cells": [
  {
   "cell_type": "markdown",
   "id": "7a56c976",
   "metadata": {},
   "source": [
    "# Técnicas de Prompting con LangChain\n",
    "\n",
    "Este notebook explora diferentes técnicas para crear y gestionar prompts usando LangChain.\n",
    "\n",
    "## 1. Plantillas Básicas con Variables"
   ]
   },
   {
    "cell_type": "markdown",
    "metadata": {},
    "source": [
     "# Técnicas de Prompting con LangChain\n",
     "\n",
     "Este notebook explora diferentes técnicas para crear y formatear prompts usando LangChain, enfocándonos en PromptTemplate, variables parciales y plantillas Jinja2.\n",
     "\n",
     "## Sección 1: Prompt Básico con Variables\n",
     "\n",
     "En esta sección, creamos un prompt simple usando PromptTemplate para analizar anuncios de marketing, incluyendo placeholders para fecha y texto.\n"
    ]
   },
   {
    "cell_type": "markdown",
    "metadata": {},
    "source": [
     "## Sección 3: Plantillas Jinja2\n",
     "\n",
     "Esta sección demuestra el uso de plantillas Jinja2 para prompts condicionales, permitiendo lógica como verificaciones de variables opcionales.\n"
    ]
   },
   {
    "cell_type": "code",
    "execution_count": null,
    "id": "5ed7155f",
   "metadata": {},
   "outputs": [
    {
     "name": "stdout",
     "output_type": "stream",
     "text": [
      "Your are a helpful that responds to the user's \n",
      "\n",
      "The user's message is: Como puedo mejorar mi sitio web?\n"
     ]
    }
   ],
   "source": [
    "template = \"\"\"\\\n",
    "Your are a helpful that responds to the user's \n",
    "\n",
    "{% if name %}\n",
    "The user's name is {{ name }} and you can call them by that name\n",
    "{% endif -%}\n",
    "\n",
    "The user's message is: {{ user_message }}\n",
    "\"\"\"\n",
    "prompt_template = PromptTemplate.from_template(template, template_format=\"jinja2\")\n",
    "prompt = prompt_template.format(user_message=\"Como puedo mejorar mi sitio web?\")\n",
    "print(prompt)"
   ]
  },
  {
   "cell_type": "markdown",
   "id": "95a7ef2b",
   "metadata": {},
   "source": [
    "## 3. Plantillas Jinja2\n",
    "\n",
    "Jinja2 es un motor de plantillas más avanzado que permite lógica condicional y bucles."
   ]
   },
   {
    "cell_type": "markdown",
    "metadata": {},
    "source": [
     "## Sección 2: Uso de Variables Parciales\n",
     "\n",
     "Aquí corregimos el error usando `partial_variables` para pre-llenar la fecha actual dinámicamente, evitando el KeyError al formatear el prompt.\n"
    ]
   },
   {
    "cell_type": "code",
    "execution_count": null,
   "id": "0ee1628b",
   "metadata": {},
   "outputs": [],
   "source": []
  },
  {
   "cell_type": "markdown",
   "id": "af26931a",
   "metadata": {},
   "source": [
    "### Explicación del código anterior:\n",
    "\n",
    "- **template_format=\"jinja2\"**: Especifica que usaremos sintaxis Jinja2\n",
    "- **{% if name %}**: Condicional que solo incluye texto si la variable `name` existe\n",
    "- **{{ variable }}**: Sintaxis Jinja2 para insertar variables\n",
    "- **{%- endif -%}**: El guión `-` elimina espacios en blanco adicionales\n",
    "- **Resultado**: Como no pasamos `name`, esa sección no aparece en el prompt final"
   ]
  }
 ],
 "metadata": {
  "kernelspec": {
   "display_name": ".venv",
   "language": "python",
   "name": "python3"
  },
  "language_info": {
   "codemirror_mode": {
    "name": "ipython",
    "version": 3
   },
   "file_extension": ".py",
   "mimetype": "text/x-python",
   "name": "python",
   "nbconvert_exporter": "python",
   "pygments_lexer": "ipython3",
   "version": "3.13.5"
  }
 },
 "nbformat": 4,
 "nbformat_minor": 5
}
