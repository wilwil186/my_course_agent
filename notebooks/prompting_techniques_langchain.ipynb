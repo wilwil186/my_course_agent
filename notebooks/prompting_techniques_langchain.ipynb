{
 "cells": [
  {
   "cell_type": "markdown",
   "id": "7a56c976",
   "metadata": {},
   "source": [
    "# Técnicas de Prompting con LangChain\n",
    "\n",
    "Este notebook explora diferentes técnicas para crear y gestionar prompts usando LangChain.\n",
    "\n",
    "## 1. Plantillas Básicas con Variables"
   ]
  },
  {
   "cell_type": "markdown",
   "id": "8284f8b3",
   "metadata": {},
   "source": [
    "# Técnicas de Prompting con LangChain\n",
    "\n",
    "Este notebook explora diferentes técnicas para crear y formatear prompts usando LangChain, enfocándonos en PromptTemplate, variables parciales y plantillas Jinja2.\n",
    "\n",
    "## Sección 1: Prompt Básico con Variables\n",
    "\n",
    "En esta sección, creamos un prompt simple usando PromptTemplate para analizar anuncios de marketing, incluyendo placeholders para fecha y texto.\n"
   ]
  },
  {
   "cell_type": "code",
   "execution_count": 2,
   "id": "3fa53dd3",
   "metadata": {},
   "outputs": [],
   "source": [
    "prompt = prompt_template.format(fecha_actual=\"2025-09-20\", texto_anuncio=\"Este es un anuncio de prueba\")\n",
    "print(prompt)"
   ]
  },
  {
   "cell_type": "markdown",
   "id": "abe66b02",
   "metadata": {},
   "source": [
    "## 2. Variables Parciales (Partial Variables)\n",
    "\n",
    "Las variables parciales permiten pre-configurar algunos valores de la plantilla, útil para valores dinámicos como fechas."
   ]
  },
  {
   "cell_type": "code",
   "execution_count": 4,
   "id": "512b2a27",
   "metadata": {},
   "outputs": [
    {
     "name": "stdout",
     "output_type": "stream",
     "text": [
      "# Instrucciones para el Asistente de IA\n",
      "\n",
      "Recuerda que hoy es 2025-10-19\n",
      "\n",
      "## Rol\n",
      "Eres un experto en marketing digital con 10 años de experiencia.\n",
      "\n",
      "## Tarea\n",
      "Analiza el siguiente texto de un anuncio y proporciona 3 sugerencias para mejorarlo, enfocándote en el llamado a la acción (CTA).\n",
      "\n",
      "## Texto del Anuncio\n",
      "Este es un anuncio de prueba\n",
      "\n",
      "## Formato de Salida\n",
      "- *Sugerencia 1:* [Tu primera sugerencia]\n",
      "- *Sugerencia 2:* [Tu segunda sugerencia]\n",
      "- *Sugerencia 3:* [Tu tercera sugerencia]\n",
      "\n"
     ]
    }
   ],
   "source": [
    "import datetime\n",
    "today = datetime.datetime.now().strftime(\"%Y-%m-%d\")\n",
    "prompt_template = PromptTemplate.from_template(template, partial_variables={\"fecha_actual\": today})\n",
    "prompt = prompt_template.format(texto_anuncio=\"Este es un anuncio de prueba\")\n",
    "print(prompt)"
   ]
  },
  {
   "cell_type": "markdown",
   "id": "87c2aaac",
   "metadata": {},
   "source": [
    "### Explicación del código anterior:\n",
    "\n",
    "- **datetime**: Obtiene la fecha actual del sistema\n",
    "- **partial_variables**: Diccionario que pre-configura la variable `fecha_actual`\n",
    "- **Ventaja**: No necesitas pasar `fecha_actual` cada vez que uses `format()`, se calcula automáticamente\n",
    "- Solo necesitas proporcionar `texto_anuncio` al llamar `format()`"
   ]
  },
  {
   "cell_type": "code",
   "execution_count": 5,
   "id": "5ed7155f",
   "metadata": {},
   "outputs": [
    {
     "name": "stdout",
     "output_type": "stream",
     "text": [
      "Your are a helpful that responds to the user's \n",
      "\n",
      "The user's message is: Como puedo mejorar mi sitio web?\n"
     ]
    }
   ],
   "source": [
    "template = \"\"\"\\\n",
    "Your are a helpful that responds to the user's \n",
    "\n",
    "{% if name %}\n",
    "The user's name is {{ name }} and you can call them by that name\n",
    "{% endif -%}\n",
    "\n",
    "The user's message is: {{ user_message }}\n",
    "\"\"\"\n",
    "prompt_template = PromptTemplate.from_template(template, template_format=\"jinja2\")\n",
    "prompt = prompt_template.format(user_message=\"Como puedo mejorar mi sitio web?\")\n",
    "print(prompt)"
   ]
  },
  {
   "cell_type": "markdown",
   "id": "95a7ef2b",
   "metadata": {},
   "source": [
    "## 3. Plantillas Jinja2\n",
    "\n",
    "Jinja2 es un motor de plantillas más avanzado que permite lógica condicional y bucles."
   ]
  },
  {
   "cell_type": "code",
   "execution_count": null,
   "id": "0ee1628b",
   "metadata": {},
   "outputs": [],
   "source": []
  },
  {
   "cell_type": "markdown",
   "id": "af26931a",
   "metadata": {},
   "source": [
    "### Explicación del código anterior:\n",
    "\n",
    "- **template_format=\"jinja2\"**: Especifica que usaremos sintaxis Jinja2\n",
    "- **{% if name %}**: Condicional que solo incluye texto si la variable `name` existe\n",
    "- **{{ variable }}**: Sintaxis Jinja2 para insertar variables\n",
    "- **{%- endif -%}**: El guión `-` elimina espacios en blanco adicionales\n",
    "- **Resultado**: Como no pasamos `name`, esa sección no aparece en el prompt final"
   ]
  }
 ],
 "metadata": {
  "kernelspec": {
   "display_name": ".venv",
   "language": "python",
   "name": "python3"
  },
  "language_info": {
   "codemirror_mode": {
    "name": "ipython",
    "version": 3
   },
   "file_extension": ".py",
   "mimetype": "text/x-python",
   "name": "python",
   "nbconvert_exporter": "python",
   "pygments_lexer": "ipython3",
   "version": "3.13.5"
  }
 },
 "nbformat": 4,
 "nbformat_minor": 5
}
