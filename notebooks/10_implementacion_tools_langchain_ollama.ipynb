{
 "cells": [
  {
   "cell_type": "code",
   "execution_count": 1,
   "id": "2147ca1d",
   "metadata": {},
   "outputs": [
    {
     "data": {
      "text/plain": [
       "True"
      ]
     },
     "execution_count": 1,
     "metadata": {},
     "output_type": "execute_result"
    }
   ],
   "source": [
    "from dotenv import load_dotenv\n",
    "load_dotenv()"
   ]
  },
  {
   "cell_type": "code",
   "execution_count": 2,
   "id": "38fd830c",
   "metadata": {},
   "outputs": [
    {
     "data": {
      "text/plain": [
       "<bound method BaseMessage.text of AIMessage(content='¡Hola! Estoy bien, gracias. ¿Y tú? ¿En qué puedo ayudarte hoy?', additional_kwargs={}, response_metadata={'model': 'qwen2.5:7b', 'created_at': '2025-10-19T20:25:50.090238769Z', 'done': True, 'done_reason': 'stop', 'total_duration': 6713756564, 'load_duration': 5526349542, 'prompt_eval_count': 34, 'prompt_eval_duration': 327575863, 'eval_count': 22, 'eval_duration': 848613574, 'model_name': 'qwen2.5:7b'}, id='run--e6608c38-e87d-449e-9739-6a5075d3fe58-0', usage_metadata={'input_tokens': 34, 'output_tokens': 22, 'total_tokens': 56})>"
      ]
     },
     "execution_count": 2,
     "metadata": {},
     "output_type": "execute_result"
    }
   ],
   "source": [
    "from langchain.chat_models import init_chat_model\n",
    "\n",
    "llm = init_chat_model(\"ollama:qwen2.5:7b\", temperature=0)\n",
    "response = llm.invoke(\"Hola, como estas?\")\n",
    "response.text"
   ]
  },
  {
   "cell_type": "code",
   "execution_count": 3,
   "id": "b2729faa",
   "metadata": {},
   "outputs": [
    {
     "data": {
      "text/plain": [
       "<bound method BaseMessage.text of AIMessage(content='La ciudad de Bogotá, capital del país colombiano, tiene un clima tropical húmedo. Aquí te presento los detalles principales:\\n\\n1. Temperaturas:\\n   - Promedio anual: Aproximadamente 13°C (55°F)\\n   - Meses más cálidos: Junio a agosto (14-16°C)\\n   - Meses más fríos: Diciembre a febrero (12-14°C)\\n\\n2. Humedad:\\n   - Generalmente alta, con un promedio del 80% durante todo el año\\n\\n3. Precipitaciones:\\n   - Aunque es una ciudad montañosa, Bogotá experimenta lluvias moderadas durante todo el año\\n   - Las precipitaciones son más frecuentes en los meses de octubre a mayo\\n\\n4. Altitud:\\n   - La ciudad está ubicada a unos 2.600 metros sobre el nivel del mar (8.530 pies)\\n\\n5. Fenómenos meteorológicos comunes:\\n   - Nieve: Aunque rara, puede caer en invierno\\n   - Tormentas eléctricas: Común durante la temporada lluviosa\\n\\n6. Estaciones:\\n   - No se considera que tenga estaciones bien definidas debido a su clima tropical húmedo\\n\\n7. Fenómeno de \"Bogotazo\":\\n   - Una temperatura repentina y significativa caída, generalmente en invierno\\n\\nEl clima de Bogotá es conocido por ser fresco pero húmedo durante todo el año, lo que puede hacer que las temperaturas no varíen mucho.', additional_kwargs={}, response_metadata={'model': 'qwen2.5:7b', 'created_at': '2025-10-19T20:26:04.451634395Z', 'done': True, 'done_reason': 'stop', 'total_duration': 14345134784, 'load_duration': 78391203, 'prompt_eval_count': 40, 'prompt_eval_duration': 34607724, 'eval_count': 360, 'eval_duration': 14229776034, 'model_name': 'qwen2.5:7b'}, id='run--97d4118c-b379-47b4-a68a-34d36cf8d0c6-0', usage_metadata={'input_tokens': 40, 'output_tokens': 360, 'total_tokens': 400})>"
      ]
     },
     "execution_count": 3,
     "metadata": {},
     "output_type": "execute_result"
    }
   ],
   "source": [
    "response = llm.invoke(\"Que clima hace en la ciudad de Bogota?\")\n",
    "response.text"
   ]
  },
  {
   "cell_type": "code",
   "execution_count": 4,
   "id": "c541e13a",
   "metadata": {},
   "outputs": [
    {
     "data": {
      "text/plain": [
       "<bound method BaseMessage.text of AIMessage(content='Mis productos disponibles incluyen:\\n\\n1. **Computadoras**: Ofrecemos una variedad de computadoras para diferentes necesidades, desde portátiles hasta escritorios.\\n2. **Mouse**: Disponemos de diversos tipos de mouse, como ópticos, inalámbricos y mecánicos, para satisfacer las preferencias individuales de los clientes.\\n3. **Teclado**: Proporcionamos teclados mecánicos, ópticos y inalámbricos, adaptados a diferentes usos y preferencias.\\n4. **Audífonos**: Ofrecemos una gama de audífonos para escuchar música, juegos y videoconferencias, incluyendo inalámbricos, con cable y de alta calidad.\\n5. **Mousepad**: Proporcionamos mousepads de diferentes materiales y tamaños para mejorar la comodidad durante el uso del mouse.\\n\\nSi tienes alguna pregunta específica o necesitas más información sobre estos productos, no dudes en decírmelo.', additional_kwargs={}, response_metadata={'model': 'qwen2.5:7b', 'created_at': '2025-10-19T20:26:13.046717863Z', 'done': True, 'done_reason': 'stop', 'total_duration': 8588357991, 'load_duration': 61544700, 'prompt_eval_count': 72, 'prompt_eval_duration': 11692653, 'eval_count': 216, 'eval_duration': 8512323740, 'model_name': 'qwen2.5:7b'}, id='run--5c195be9-ccf2-4e12-8f65-eadbe1e2608a-0', usage_metadata={'input_tokens': 72, 'output_tokens': 216, 'total_tokens': 288})>"
      ]
     },
     "execution_count": 4,
     "metadata": {},
     "output_type": "execute_result"
    }
   ],
   "source": [
    "system_prompt = \"\"\"\n",
    "Eres un asistente de ventas que ayuda a los clientes a encontrar los productos que necesitan.\n",
    "\n",
    "Y tus productos son:\n",
    "- Computadora\n",
    "- Mouse\n",
    "- Teclado\n",
    "- Audifonos\n",
    "- Mousepad\n",
    "\"\"\"\n",
    "messages = [\n",
    "    (\"system\", system_prompt),\n",
    "    (\"user\", \"Dime los productos que ofreces en la tienda\")\n",
    "]\n",
    "response = llm.invoke(messages)\n",
    "response.text"
   ]
  },
  {
   "cell_type": "code",
   "execution_count": 5,
   "id": "5b085ed1",
   "metadata": {},
   "outputs": [],
   "source": [
    "from langchain_core.tools import tool\n",
    "import requests\n",
    "\n",
    "@tool(\"get_products\", description=\"Get the products that the store offers filter by price\")\n",
    "def get_products():\n",
    "    # Connnect with API\n",
    "    \"\"\"Get the products that the store offers\"\"\"\n",
    "    response = requests.get(\"https://api.escuelajs.co/api/v1/products\")\n",
    "    products = response.json()\n",
    "    return \"\".join([f\"{product['title']} - {product['price']}\" for product in products])\n",
    "\n"
   ]
  },
  {
   "cell_type": "code",
   "execution_count": 6,
   "id": "b0ae0e16",
   "metadata": {},
   "outputs": [
    {
     "data": {
      "text/plain": [
       "'Artss - 11122Artix - 123123Alpha1760905210304 - 100Furniture product_RHWV - 10Furniture product - 10Furniture product_9L7X - 10Furniture product_JVHW - 10'"
      ]
     },
     "execution_count": 6,
     "metadata": {},
     "output_type": "execute_result"
    }
   ],
   "source": [
    "get_products.invoke({})"
   ]
  },
  {
   "cell_type": "code",
   "execution_count": 7,
   "id": "aa2ba977",
   "metadata": {},
   "outputs": [
    {
     "data": {
      "text/plain": [
       "'The weather in bogota is 16.2C with 12.7km/h of wind.'"
      ]
     },
     "execution_count": 7,
     "metadata": {},
     "output_type": "execute_result"
    }
   ],
   "source": [
    "@tool(\"get_weather\", description=\"Get the weather of a city\")\n",
    "def get_weather(city: str):\n",
    "    response = requests.get(f\"https://geocoding-api.open-meteo.com/v1/search?name={city}&count=1\")\n",
    "    data = response.json()\n",
    "    latitude = data[\"results\"][0][\"latitude\"]\n",
    "    longitude = data[\"results\"][0][\"longitude\"]\n",
    "    response = requests.get(f\"https://api.open-meteo.com/v1/forecast?latitude={latitude}&longitude={longitude}&current_weather=true\")\n",
    "    data = response.json()\n",
    "    response = f\"The weather in {city} is {data[\"current_weather\"][\"temperature\"]}C with {data[\"current_weather\"][\"windspeed\"]}km/h of wind.\"\n",
    "    return response\n",
    "\n",
    "get_weather.invoke({\"city\": \"bogota\"})"
   ]
  },
  {
   "cell_type": "code",
   "execution_count": 8,
   "id": "91cde197",
   "metadata": {},
   "outputs": [
    {
     "data": {
      "text/plain": [
       "[]"
      ]
     },
     "execution_count": 8,
     "metadata": {},
     "output_type": "execute_result"
    }
   ],
   "source": [
    "system_prompt = \"\"\"\n",
    "Eres un asistente de ventas que ayuda a los clientes a encontrar los productos que necesitan y dar el clima de la ciudad\n",
    "\n",
    "Tus tools son:\n",
    "- get_products: para obtener los productos que ofreces en la tienda\n",
    "- get_weather: para obtener el clima de la ciudad\n",
    "\"\"\"\n",
    "messages = [\n",
    "    (\"system\", system_prompt),\n",
    "    (\"user\", \"Dime los productos que ofreces en la tienda\")\n",
    "]\n",
    "llm_with_tools = llm.bind_tools([get_products, get_weather])\n",
    "response = llm_with_tools.invoke(messages)\n",
    "response.tool_calls"
   ]
  },
  {
   "cell_type": "code",
   "execution_count": 9,
   "id": "d21dd764",
   "metadata": {},
   "outputs": [
    {
     "data": {
      "text/plain": [
       "<bound method BaseMessage.text of AIMessage(content='¡Hola! Estoy bien, gracias. ¿En qué puedo ayudarte hoy?', additional_kwargs={}, response_metadata={'model': 'qwen2.5:7b', 'created_at': '2025-10-19T20:26:19.155616993Z', 'done': True, 'done_reason': 'stop', 'total_duration': 796752926, 'load_duration': 50496654, 'prompt_eval_count': 259, 'prompt_eval_duration': 19555529, 'eval_count': 18, 'eval_duration': 722853690, 'model_name': 'qwen2.5:7b'}, id='run--15238c23-7718-4e7a-b87c-8c842a481e4e-0', usage_metadata={'input_tokens': 259, 'output_tokens': 18, 'total_tokens': 277})>"
      ]
     },
     "execution_count": 9,
     "metadata": {},
     "output_type": "execute_result"
    }
   ],
   "source": [
    "messages = [\n",
    "    (\"system\", system_prompt),\n",
    "    (\"user\", \"Hola, que tal?\")\n",
    "]\n",
    "response = llm_with_tools.invoke(messages)\n",
    "response.text"
   ]
  },
  {
   "cell_type": "code",
   "execution_count": 10,
   "id": "54c7dbc2",
   "metadata": {},
   "outputs": [
    {
     "data": {
      "text/plain": [
       "[]"
      ]
     },
     "execution_count": 10,
     "metadata": {},
     "output_type": "execute_result"
    }
   ],
   "source": [
    "system_prompt = \"\"\"\n",
    "Eres un asistente de ventas que ayuda a los clientes a encontrar los productos que necesitan y dar el clima de la ciudad\n",
    "\n",
    "Tus tools son:\n",
    "- get_products: para obtener los productos que ofreces en la tienda\n",
    "- get_weather: para obtener el clima de la ciudad\n",
    "\"\"\"\n",
    "messages = [\n",
    "    (\"system\", system_prompt),\n",
    "    (\"user\", \"Cual es el clima en la capital de Bolivia?\")\n",
    "]\n",
    "llm_with_tools = llm.bind_tools([get_products, get_weather])\n",
    "response = llm_with_tools.invoke(messages)\n",
    "response.tool_calls"
   ]
  }
 ],
 "metadata": {
  "kernelspec": {
   "display_name": ".venv",
   "language": "python",
   "name": "python3"
  },
  "language_info": {
   "codemirror_mode": {
    "name": "ipython",
    "version": 3
   },
   "file_extension": ".py",
   "mimetype": "text/x-python",
   "name": "python",
   "nbconvert_exporter": "python",
   "pygments_lexer": "ipython3",
   "version": "3.13.5"
  }
 },
 "nbformat": 4,
 "nbformat_minor": 5
}
