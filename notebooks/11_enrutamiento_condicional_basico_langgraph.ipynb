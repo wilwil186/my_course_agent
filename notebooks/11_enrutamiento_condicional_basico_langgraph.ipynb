{
  "cells": [
    {
      "cell_type": "markdown",
      "id": "intro",
      "metadata": {},
      "source": [
        "# Enrutamiento Condicional Básico en LangGraph\n",
        "\n",
        "Este notebook demuestra un ejemplo básico de enrutamiento condicional en LangGraph usando herramientas open source. Aprenderás a definir estados, nodos y edges condicionales para crear flujos dinámicos."
      ]
    },
    {
      "cell_type": "markdown",
      "id": "state",
      "metadata": {},
      "source": [
        "## Definición del Estado\n",
        "\n",
        "Definimos una estructura de estado usando TypedDict para mantener la información a lo largo del grafo. Esto permite compartir datos entre nodos de manera tipada."
      ]
    },
    {
      "cell_type": "code",
      "execution_count": 1,
      "id": "d3886c89",
      "metadata": {},
      "outputs": [],
      "source": [
        "from typing import TypedDict\n",
        "\n",
        "class State(TypedDict):\n",
        "    customer_name: str\n",
        "    my_age: int"
      ]
    },
    {
      "cell_type": "markdown",
      "id": "nodes",
      "metadata": {},
      "source": [
        "## Definición de Nodos\n",
        "\n",
        "Creamos funciones simples para los nodos que procesan el estado. Cada nodo recibe el estado y puede modificarlo o pasarlo sin cambios."
      ]
    },
    {
      "cell_type": "code",
      "execution_count": 2,
      "id": "a81ecef4",
      "metadata": {},
      "outputs": [],
      "source": [
        "def node_1(state: State):\n",
        "    return state\n",
        "\n",
        "def node_2(state: State):\n",
        "    return state\n",
        "\n",
        "def node_3(state: State):\n",
        "    return state"
      ]
    },
    {
      "cell_type": "markdown",
      "id": "routing",
      "metadata": {},
      "source": [
        "## Definición del Edge de Routing\n",
        "\n",
        "Implementamos un edge condicional que decide el siguiente nodo basado en una condición aleatoria. Esto simula decisiones dinámicas en el flujo del grafo."
      ]
    },
    {
      "cell_type": "code",
      "execution_count": 3,
      "id": "8c8732fd",
      "metadata": {},
      "outputs": [],
      "source": [
        "import random\n",
        "from typing import Literal\n",
        "\n",
        "def route_edge(state: State) -> Literal[\"node_2\", \"node_3\"]:\n",
        "    if random.random() < 0.5:\n",
        "        return 'node_2'\n",
        "    return 'node_3'"
      ]
    },
    {
      "cell_type": "markdown",
      "id": "graph",
      "metadata": {},
      "source": [
        "## Construcción y Visualización del Grafo\n",
        "\n",
        "Construimos el grafo agregando nodos y edges, incluyendo el edge condicional. Finalmente, compilamos y visualizamos la estructura en ASCII."
      ]
    },
    {
      "cell_type": "code",
      "execution_count": 4,
      "id": "07fe82fd",
      "metadata": {},
      "outputs": [
        {
          "name": "stdout",
          "output_type": "stream",
          "text": [
            "        +-----------+          \n",
            "        | __start__ |          \n",
            "        +-----------+          \n",
            "               *               \n",
            "               *               \n",
            "               *               \n",
            "          +--------+           \n",
            "          | node_1 |           \n",
            "          +--------+           \n",
            "          .         .          \n",
            "        ..           ..        \n",
            "       .               .       \n",
            "+--------+          +--------+ \n",
            "| node_2 |          | node_3 | \n",
            "+--------+          +--------+ \n",
            "          *         *          \n",
            "           **     **           \n",
            "             *   *             \n",
            "          +---------+          \n",
            "          | __end__ |          \n",
            "          +---------+          \n"
          ]
        }
      ],
      "source": [
        "from langgraph.graph import StateGraph, START, END\n",
        "\n",
        "builder = StateGraph(State)\n",
        "builder.add_node(\"node_1\", node_1)\n",
        "builder.add_node(\"node_2\", node_2)\n",
        "builder.add_node(\"node_3\", node_3)\n",
        "\n",
        "builder.add_edge(START, 'node_1')\n",
        "builder.add_conditional_edges('node_1', route_edge)\n",
        "builder.add_edge('node_2', END)\n",
        "builder.add_edge('node_3', END)\n",
        "\n",
        "agent = builder.compile()\n",
        "print(agent.get_graph().draw_ascii())"
      ]
    }
  ],
  "metadata": {
    "kernelspec": {
      "display_name": ".venv",
      "language": "python",
      "name": "python3"
    },
    "language_info": {
      "codemirror_mode": {
        "name": "ipython",
        "version": 3
      },
      "file_extension": ".py",
      "mimetype": "text/x-python",
      "name": "python",
      "nbconvert_exporter": "python",
      "pygments_lexer": "ipython3",
      "version": "3.13.5"
    }
  },
  "nbformat": 4,
  "nbformat_minor": 5
}
