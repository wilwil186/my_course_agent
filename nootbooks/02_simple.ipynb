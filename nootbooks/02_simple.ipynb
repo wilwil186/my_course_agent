{
 "cells": [
  {
   "cell_type": "code",
   "execution_count": 1,
   "id": "9abe0ced",
   "metadata": {},
   "outputs": [
    {
     "name": "stdout",
     "output_type": "stream",
     "text": [
      "None\n"
     ]
    }
   ],
   "source": [
    "from typing import TypedDict\n",
    "\n",
    "class State(TypedDict):\n",
    "    customer_name: str\n",
    "    my_age: int\n",
    "\n",
    "state: State = {}\n",
    "customer_name = state.get(\"customer_name\", None)\n",
    "print(customer_name)"
   ]
  },
  {
   "cell_type": "code",
   "execution_count": null,
   "id": "e571e51d",
   "metadata": {},
   "outputs": [],
   "source": []
  }
 ],
 "metadata": {
  "kernelspec": {
   "display_name": ".venv",
   "language": "python",
   "name": "python3"
  },
  "language_info": {
   "codemirror_mode": {
    "name": "ipython",
    "version": 3
   },
   "file_extension": ".py",
   "mimetype": "text/x-python",
   "name": "python",
   "nbconvert_exporter": "python",
   "pygments_lexer": "ipython3",
   "version": "3.13.5"
  }
 },
 "nbformat": 4,
 "nbformat_minor": 5
}
