{
 "cells": [
  {
   "cell_type": "code",
   "execution_count": 1,
   "id": "509dc9c7",
   "metadata": {},
   "outputs": [
    {
     "data": {
      "text/plain": [
       "<bound method BaseMessage.text of AIMessage(content='Message from the AI', additional_kwargs={}, response_metadata={})>"
      ]
     },
     "execution_count": 1,
     "metadata": {},
     "output_type": "execute_result"
    }
   ],
   "source": [
    "from langchain_core.messages import AIMessage\n",
    "\n",
    "ai_msg = AIMessage(content=\"Message from the AI\")\n",
    "ai_msg.text"
   ]
  },
  {
   "cell_type": "code",
   "execution_count": 2,
   "id": "d8fde5aa",
   "metadata": {},
   "outputs": [
    {
     "data": {
      "text/plain": [
       "<bound method BaseMessage.text of HumanMessage(content='Message from the Human', additional_kwargs={}, response_metadata={})>"
      ]
     },
     "execution_count": 2,
     "metadata": {},
     "output_type": "execute_result"
    }
   ],
   "source": [
    "from langchain_core.messages import HumanMessage\n",
    "\n",
    "human_msg = HumanMessage(content=\"Message from the Human\")\n",
    "human_msg.text"
   ]
  },
  {
   "cell_type": "code",
   "execution_count": 3,
   "id": "8d1eb05e",
   "metadata": {},
   "outputs": [
    {
     "name": "stdout",
     "output_type": "stream",
     "text": [
      "==================================\u001b[1m Ai Message \u001b[0m==================================\n",
      "\n",
      "Message from the AI\n",
      "================================\u001b[1m Human Message \u001b[0m=================================\n",
      "\n",
      "Message from the Human\n"
     ]
    }
   ],
   "source": [
    "history = [ai_msg, human_msg]\n",
    "for m in history:\n",
    "    m.pretty_print()\n"
   ]
  },
  {
   "cell_type": "code",
   "execution_count": 4,
   "id": "fdefb6f3",
   "metadata": {},
   "outputs": [
    {
     "data": {
      "text/plain": [
       "[1, 2, 3, 1]"
      ]
     },
     "execution_count": 4,
     "metadata": {},
     "output_type": "execute_result"
    }
   ],
   "source": [
    "[1,2,3] + [1]"
   ]
  },
  {
   "cell_type": "code",
   "execution_count": 5,
   "id": "da0b7389",
   "metadata": {},
   "outputs": [
    {
     "data": {
      "text/plain": [
       "[AIMessage(content='Message from the AI', additional_kwargs={}, response_metadata={}),\n",
       " HumanMessage(content='Message from the Human', additional_kwargs={}, response_metadata={}),\n",
       " AIMessage(content='Message from the AI', additional_kwargs={}, response_metadata={})]"
      ]
     },
     "execution_count": 5,
     "metadata": {},
     "output_type": "execute_result"
    }
   ],
   "source": [
    "history + [AIMessage(content=\"Message from the AI\")]"
   ]
  }
 ],
 "metadata": {
  "kernelspec": {
   "display_name": ".venv",
   "language": "python",
   "name": "python3"
  },
  "language_info": {
   "codemirror_mode": {
    "name": "ipython",
    "version": 3
   },
   "file_extension": ".py",
   "mimetype": "text/x-python",
   "name": "python",
   "nbconvert_exporter": "python",
   "pygments_lexer": "ipython3",
   "version": "3.13.5"
  }
 },
 "nbformat": 4,
 "nbformat_minor": 5
}
